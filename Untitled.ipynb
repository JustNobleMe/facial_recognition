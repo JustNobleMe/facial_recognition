{
 "cells": [
  {
   "cell_type": "code",
   "execution_count": 1,
   "id": "9efbc122-6679-4dd7-a298-740cdfddb463",
   "metadata": {},
   "outputs": [],
   "source": [
    "# Modules"
   ]
  },
  {
   "cell_type": "code",
   "execution_count": 2,
   "id": "6b6d282e-f061-4117-a608-6980abca7c72",
   "metadata": {},
   "outputs": [
    {
     "name": "stderr",
     "output_type": "stream",
     "text": [
      "C:\\Users\\HP\\anaconda3\\envs\\face\\lib\\site-packages\\tqdm\\auto.py:21: TqdmWarning: IProgress not found. Please update jupyter and ipywidgets. See https://ipywidgets.readthedocs.io/en/stable/user_install.html\n",
      "  from .autonotebook import tqdm as notebook_tqdm\n"
     ]
    }
   ],
   "source": [
    "from facenet_pytorch import MTCNN, InceptionResnetV1\n",
    "from PIL import Image\n",
    "import torch\n",
    "import numpy as np\n",
    "import pickle"
   ]
  },
  {
   "cell_type": "code",
   "execution_count": 3,
   "id": "b4f2e095-4780-441d-8a66-ab5da8b30e69",
   "metadata": {},
   "outputs": [
    {
     "name": "stderr",
     "output_type": "stream",
     "text": [
      "100%|███████████████████████████████████████████████████████████████████████████████| 107M/107M [00:59<00:00, 1.88MB/s]\n"
     ]
    }
   ],
   "source": [
    "device = torch.device('cuda' if torch.cuda.is_available() else 'cpu')\n",
    "mtcnn = MTCNN(keep_all=False, device=device)  # face detector\n",
    "resnet = InceptionResnetV1(pretrained='vggface2').eval().to(device)"
   ]
  },
  {
   "cell_type": "code",
   "execution_count": 4,
   "id": "9b1cc728-0746-4e4d-b6fd-133ba60d2a1c",
   "metadata": {},
   "outputs": [],
   "source": [
    "# Set up database"
   ]
  },
  {
   "cell_type": "code",
   "execution_count": 28,
   "id": "ca65fdb2-6768-4508-aa53-c5bc1f0a6502",
   "metadata": {},
   "outputs": [],
   "source": [
    "DB_FILE = \"ngit_ace_db.pkl\""
   ]
  },
  {
   "cell_type": "code",
   "execution_count": 6,
   "id": "d60a46c5-5eaf-4d9e-ad3c-fbb2b35a07a2",
   "metadata": {},
   "outputs": [],
   "source": [
    "# Load image function"
   ]
  },
  {
   "cell_type": "code",
   "execution_count": 7,
   "id": "9a030fea-adac-4a87-a073-40645fd0b6b6",
   "metadata": {},
   "outputs": [],
   "source": [
    "def load_image(img_path):\n",
    "    \"\"\"Extract face embedding from an image file.\"\"\"\n",
    "    img = Image.open(img_path).convert('RGB')\n",
    "    face = mtcnn(img)\n",
    "    if face is None:\n",
    "        raise ValueError(\"No face detected in image: \" + img_path)\n",
    "    face = face.unsqueeze(0).to(device)\n",
    "    with torch.no_grad():\n",
    "        emb = resnet(face)\n",
    "    return emb.cpu().numpy()[0]"
   ]
  },
  {
   "cell_type": "code",
   "execution_count": 8,
   "id": "55abbdca-fc25-4628-acf9-8539d597755c",
   "metadata": {},
   "outputs": [],
   "source": [
    "# load database function"
   ]
  },
  {
   "cell_type": "code",
   "execution_count": 9,
   "id": "681710b7-73e5-469f-96bf-f79c79f1dceb",
   "metadata": {},
   "outputs": [],
   "source": [
    "def load_db():\n",
    "    try:\n",
    "        with open(DB_FILE, 'rb') as f:\n",
    "            return pickle.load(f)\n",
    "    except:\n",
    "        return {}"
   ]
  },
  {
   "cell_type": "code",
   "execution_count": 10,
   "id": "02fdadd2-7ef2-405e-adbd-6001d7ceb779",
   "metadata": {},
   "outputs": [],
   "source": [
    "# save database function"
   ]
  },
  {
   "cell_type": "code",
   "execution_count": 11,
   "id": "3f5c4c91-d076-4ff7-96a4-55a35335e04e",
   "metadata": {},
   "outputs": [],
   "source": [
    "def save_db(db):\n",
    "    with open(DB_FILE, 'wb') as f:\n",
    "        pickle.dump(db, f)"
   ]
  },
  {
   "cell_type": "code",
   "execution_count": 12,
   "id": "95277243-5183-4665-99c3-7f772a80115d",
   "metadata": {},
   "outputs": [],
   "source": [
    "# similarity function"
   ]
  },
  {
   "cell_type": "code",
   "execution_count": 13,
   "id": "970218a8-5740-4b97-b5e3-908c49761abe",
   "metadata": {},
   "outputs": [],
   "source": [
    "def cosine_similarity(a, b):\n",
    "    a = a / (np.linalg.norm(a) + 1e-8)\n",
    "    b = b / (np.linalg.norm(b) + 1e-8)\n",
    "    return float(np.dot(a, b))"
   ]
  },
  {
   "cell_type": "code",
   "execution_count": 14,
   "id": "193629ec-df0b-451f-be45-90cceeadbda4",
   "metadata": {},
   "outputs": [],
   "source": [
    "# register new faces function"
   ]
  },
  {
   "cell_type": "code",
   "execution_count": 25,
   "id": "2d6c3f00-0a5f-4e59-a9b6-bb32add9f78e",
   "metadata": {},
   "outputs": [],
   "source": [
    "def register_face(name, img_path):\n",
    "    db = load_db()\n",
    "    emb = load_image(img_path)\n",
    "\n",
    "    if name not in db:\n",
    "        db[name] = []\n",
    "    db[name].append(emb)\n",
    "\n",
    "    save_db(db)\n",
    "    print(f\"Registered {name} successfully! (Total samples: {len(db[name])})\")"
   ]
  },
  {
   "cell_type": "code",
   "execution_count": 16,
   "id": "36d0b4d9-8953-4ecb-a9ac-9674187c91af",
   "metadata": {},
   "outputs": [],
   "source": [
    "# recognising face function"
   ]
  },
  {
   "cell_type": "code",
   "execution_count": 26,
   "id": "d65d888c-5996-44ab-a20f-7a444f5084af",
   "metadata": {},
   "outputs": [],
   "source": [
    "def recognize_face(img_path, threshold=0.6):\n",
    "    db = load_db()\n",
    "    if not db:\n",
    "        print(\"Database is empty!\")\n",
    "        return None\n",
    "    emb = load_image(img_path)\n",
    "\n",
    "    best_match, best_score = None, -1\n",
    "    for name, saved_emb_list in db.items():\n",
    "        # Compare with all saved embeddings for this name\n",
    "        scores = [cosine_similarity(emb, e) for e in saved_emb_list]\n",
    "        score = max(scores)  # take best score\n",
    "        if score > best_score:\n",
    "            best_score = score\n",
    "            best_match = name\n",
    "\n",
    "    if best_score >= threshold:\n",
    "        print(f\"Recognized as: {best_match} (similarity={best_score:.2f})\")\n",
    "        return best_match\n",
    "    else:\n",
    "        print(\"Unknown face\")\n",
    "        return None"
   ]
  },
  {
   "cell_type": "code",
   "execution_count": null,
   "id": "f760a71d-99ac-4b18-bca9-2d771daefad0",
   "metadata": {},
   "outputs": [],
   "source": []
  },
  {
   "cell_type": "code",
   "execution_count": null,
   "id": "b5e0377c-74ce-4725-b124-390408065723",
   "metadata": {},
   "outputs": [],
   "source": []
  },
  {
   "cell_type": "code",
   "execution_count": 18,
   "id": "1c317658-8d8b-422f-a07b-881657207f39",
   "metadata": {},
   "outputs": [],
   "source": [
    "# checkout"
   ]
  },
  {
   "cell_type": "code",
   "execution_count": 29,
   "id": "a1f2bdc3-2635-4a93-a196-d8658e0134aa",
   "metadata": {},
   "outputs": [
    {
     "name": "stdout",
     "output_type": "stream",
     "text": [
      "Registered Elizabeth successfully! (Total samples: 1)\n"
     ]
    }
   ],
   "source": [
    "if __name__ == \"__main__\":\n",
    "    # Register face\n",
    "    register_face(\"Elizabeth\", \"images/sample1.jpg\")"
   ]
  },
  {
   "cell_type": "code",
   "execution_count": 31,
   "id": "2b217950-72e6-423d-b036-feb77e3a939d",
   "metadata": {},
   "outputs": [
    {
     "name": "stdout",
     "output_type": "stream",
     "text": [
      "Registered Elizabeth successfully! (Total samples: 2)\n"
     ]
    }
   ],
   "source": [
    "if __name__ == \"__main__\":\n",
    "    # Register face\n",
    "    register_face(\"Elizabeth\", \"images/sample3.jpg\")"
   ]
  },
  {
   "cell_type": "code",
   "execution_count": 35,
   "id": "ad57003f-1569-40db-acf0-9142ca51aa7f",
   "metadata": {},
   "outputs": [
    {
     "ename": "ValueError",
     "evalue": "No face detected in image: images/sample2.jpg",
     "output_type": "error",
     "traceback": [
      "\u001b[1;31m---------------------------------------------------------------------------\u001b[0m",
      "\u001b[1;31mValueError\u001b[0m                                Traceback (most recent call last)",
      "Cell \u001b[1;32mIn[35], line 3\u001b[0m\n\u001b[0;32m      1\u001b[0m \u001b[38;5;28;01mif\u001b[39;00m \u001b[38;5;18m__name__\u001b[39m \u001b[38;5;241m==\u001b[39m \u001b[38;5;124m\"\u001b[39m\u001b[38;5;124m__main__\u001b[39m\u001b[38;5;124m\"\u001b[39m:\n\u001b[0;32m      2\u001b[0m     \u001b[38;5;66;03m# Register face\u001b[39;00m\n\u001b[1;32m----> 3\u001b[0m     \u001b[43mregister_face\u001b[49m\u001b[43m(\u001b[49m\u001b[38;5;124;43m\"\u001b[39;49m\u001b[38;5;124;43mElizabeth\u001b[39;49m\u001b[38;5;124;43m\"\u001b[39;49m\u001b[43m,\u001b[49m\u001b[43m \u001b[49m\u001b[38;5;124;43m\"\u001b[39;49m\u001b[38;5;124;43mimages/sample2.jpg\u001b[39;49m\u001b[38;5;124;43m\"\u001b[39;49m\u001b[43m)\u001b[49m\n",
      "Cell \u001b[1;32mIn[25], line 3\u001b[0m, in \u001b[0;36mregister_face\u001b[1;34m(name, img_path)\u001b[0m\n\u001b[0;32m      1\u001b[0m \u001b[38;5;28;01mdef\u001b[39;00m\u001b[38;5;250m \u001b[39m\u001b[38;5;21mregister_face\u001b[39m(name, img_path):\n\u001b[0;32m      2\u001b[0m     db \u001b[38;5;241m=\u001b[39m load_db()\n\u001b[1;32m----> 3\u001b[0m     emb \u001b[38;5;241m=\u001b[39m \u001b[43mload_image\u001b[49m\u001b[43m(\u001b[49m\u001b[43mimg_path\u001b[49m\u001b[43m)\u001b[49m\n\u001b[0;32m      5\u001b[0m     \u001b[38;5;28;01mif\u001b[39;00m name \u001b[38;5;129;01mnot\u001b[39;00m \u001b[38;5;129;01min\u001b[39;00m db:\n\u001b[0;32m      6\u001b[0m         db[name] \u001b[38;5;241m=\u001b[39m []\n",
      "Cell \u001b[1;32mIn[7], line 6\u001b[0m, in \u001b[0;36mload_image\u001b[1;34m(img_path)\u001b[0m\n\u001b[0;32m      4\u001b[0m face \u001b[38;5;241m=\u001b[39m mtcnn(img)\n\u001b[0;32m      5\u001b[0m \u001b[38;5;28;01mif\u001b[39;00m face \u001b[38;5;129;01mis\u001b[39;00m \u001b[38;5;28;01mNone\u001b[39;00m:\n\u001b[1;32m----> 6\u001b[0m     \u001b[38;5;28;01mraise\u001b[39;00m \u001b[38;5;167;01mValueError\u001b[39;00m(\u001b[38;5;124m\"\u001b[39m\u001b[38;5;124mNo face detected in image: \u001b[39m\u001b[38;5;124m\"\u001b[39m \u001b[38;5;241m+\u001b[39m img_path)\n\u001b[0;32m      7\u001b[0m face \u001b[38;5;241m=\u001b[39m face\u001b[38;5;241m.\u001b[39munsqueeze(\u001b[38;5;241m0\u001b[39m)\u001b[38;5;241m.\u001b[39mto(device)\n\u001b[0;32m      8\u001b[0m \u001b[38;5;28;01mwith\u001b[39;00m torch\u001b[38;5;241m.\u001b[39mno_grad():\n",
      "\u001b[1;31mValueError\u001b[0m: No face detected in image: images/sample2.jpg"
     ]
    }
   ],
   "source": [
    "if __name__ == \"__main__\":\n",
    "    # Register face\n",
    "    register_face(\"Elizabeth\", \"images/sample2.jpg\")"
   ]
  },
  {
   "cell_type": "code",
   "execution_count": 32,
   "id": "d82359e1-0cf7-45c5-85b7-2965f2017f10",
   "metadata": {},
   "outputs": [
    {
     "name": "stdout",
     "output_type": "stream",
     "text": [
      "Recognized as: Elizabeth (similarity=0.93)\n"
     ]
    },
    {
     "data": {
      "text/plain": [
       "'Elizabeth'"
      ]
     },
     "execution_count": 32,
     "metadata": {},
     "output_type": "execute_result"
    }
   ],
   "source": [
    "recognize_face(\"images/test1.jpg\")"
   ]
  },
  {
   "cell_type": "code",
   "execution_count": 33,
   "id": "199f504f-21cf-473b-97eb-56fa992ae8e4",
   "metadata": {},
   "outputs": [
    {
     "name": "stdout",
     "output_type": "stream",
     "text": [
      "Recognized as: Elizabeth (similarity=0.87)\n"
     ]
    },
    {
     "data": {
      "text/plain": [
       "'Elizabeth'"
      ]
     },
     "execution_count": 33,
     "metadata": {},
     "output_type": "execute_result"
    }
   ],
   "source": [
    "recognize_face(\"images/test2.jpg\")"
   ]
  },
  {
   "cell_type": "code",
   "execution_count": 34,
   "id": "eab6c0c4-8646-4db9-8579-f2f7577f4b60",
   "metadata": {},
   "outputs": [
    {
     "name": "stdout",
     "output_type": "stream",
     "text": [
      "Recognized as: Elizabeth (similarity=0.86)\n"
     ]
    },
    {
     "data": {
      "text/plain": [
       "'Elizabeth'"
      ]
     },
     "execution_count": 34,
     "metadata": {},
     "output_type": "execute_result"
    }
   ],
   "source": [
    "recognize_face(\"images/test3.jpg\")"
   ]
  },
  {
   "cell_type": "code",
   "execution_count": null,
   "id": "f67f7957-3fb4-4477-8f9c-ce3523a724d5",
   "metadata": {},
   "outputs": [],
   "source": []
  }
 ],
 "metadata": {
  "kernelspec": {
   "display_name": "Python (face)",
   "language": "python",
   "name": "face"
  },
  "language_info": {
   "codemirror_mode": {
    "name": "ipython",
    "version": 3
   },
   "file_extension": ".py",
   "mimetype": "text/x-python",
   "name": "python",
   "nbconvert_exporter": "python",
   "pygments_lexer": "ipython3",
   "version": "3.10.18"
  }
 },
 "nbformat": 4,
 "nbformat_minor": 5
}
